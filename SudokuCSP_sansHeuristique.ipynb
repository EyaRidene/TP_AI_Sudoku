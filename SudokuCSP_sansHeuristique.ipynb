{
  "nbformat": 4,
  "nbformat_minor": 0,
  "metadata": {
    "colab": {
      "provenance": []
    },
    "kernelspec": {
      "name": "python3",
      "display_name": "Python 3"
    },
    "language_info": {
      "name": "python"
    }
  },
  "cells": [
    {
      "cell_type": "markdown",
      "source": [
        "## TP2 AI : **Problème CSP Sans Heuristique**\n"
      ],
      "metadata": {
        "id": "TSLpUJ7HSWRA"
      }
    },
    {
      "cell_type": "code",
      "execution_count": 1,
      "metadata": {
        "colab": {
          "base_uri": "https://localhost:8080/"
        },
        "id": "v5tVpdGGSGNk",
        "outputId": "edb686d4-fc05-4fee-eee0-c9fd01783cc4"
      },
      "outputs": [
        {
          "output_type": "stream",
          "name": "stdout",
          "text": [
            "Sudoku solved:\n",
            "[5, 3, 4, 6, 7, 8, 9, 1, 2]\n",
            "[6, 7, 2, 1, 9, 5, 3, 4, 8]\n",
            "[1, 9, 8, 3, 4, 2, 5, 6, 7]\n",
            "[8, 5, 9, 7, 6, 1, 4, 2, 3]\n",
            "[4, 2, 6, 8, 5, 3, 7, 9, 1]\n",
            "[7, 1, 3, 9, 2, 4, 8, 5, 6]\n",
            "[9, 6, 1, 5, 3, 7, 2, 8, 4]\n",
            "[2, 8, 7, 4, 1, 9, 6, 3, 5]\n",
            "[3, 4, 5, 2, 8, 6, 1, 7, 9]\n"
          ]
        }
      ],
      "source": [
        "class SudokuCSP:\n",
        "\n",
        "    def __init__(self, puzzle):\n",
        "        self.grid = puzzle\n",
        "\n",
        "# Check if 'num' is not in the same row and column or in the 3x3 box\n",
        "    def is_valid(self, row, col, num):\n",
        "        # Check if 'num' is not in the same row and column\n",
        "        for i in range(9):\n",
        "            if (self.grid[row][i] == num or self.grid[i][col] == num):\n",
        "                return False\n",
        "\n",
        "\n",
        "        # Check if 'num' is not in the same 3x3 box\n",
        "\n",
        "        start_row, start_col = 3 * (row // 3), 3 * (col // 3)\n",
        "        for i in range(3):\n",
        "            for j in range(3):\n",
        "                if self.grid[start_row + i][start_col + j] == num:\n",
        "                    return False\n",
        "\n",
        "        return True\n",
        "\n",
        "    def find_empty_location(self):\n",
        "        # Find an empty position (0) in the grid\n",
        "        for i in range(9):\n",
        "            for j in range(9):\n",
        "                if self.grid[i][j] == 0:\n",
        "                    return i, j\n",
        "        return None\n",
        "    # Backtracking solver\n",
        "\n",
        "    def solve(self):\n",
        "        # Find an empty position\n",
        "        empty_location = self.find_empty_location()\n",
        "\n",
        "        # If there is no empty position, the puzzle is solved\n",
        "        if not empty_location:\n",
        "            return True\n",
        "\n",
        "        row, col = empty_location\n",
        "\n",
        "        # Try placing a number from 1 to 9\n",
        "        for num in range(1, 10):\n",
        "            if self.is_valid(row, col, num):\n",
        "                # If the placement is valid, update the grid\n",
        "                self.grid[row][col] = num\n",
        "\n",
        "                # Recursively try to solve the rest of the puzzle\n",
        "                if self.solve():\n",
        "                    return True\n",
        "\n",
        "                # If placing the current number doesn't lead to a solution, backtrack\n",
        "                self.grid[row][col] = 0\n",
        "\n",
        "        # If no number leads to a solution, backtrack\n",
        "        return False\n",
        "\n",
        "# Display the solved Sudoku grid\n",
        "    def display(self):\n",
        "         for row in self.grid:\n",
        "            print(row)\n",
        "\n",
        "    # Example usage:\n",
        "puzzle = [\n",
        "    [5, 3, 0, 0, 7, 0, 0, 0, 0],\n",
        "    [6, 0, 0, 1, 9, 5, 0, 0, 0],\n",
        "    [0, 9, 8, 0, 0, 0, 0, 6, 0],\n",
        "    [8, 0, 0, 0, 6, 0, 0, 0, 3],\n",
        "    [4, 0, 0, 8, 0, 3, 0, 0, 1],\n",
        "    [7, 0, 0, 0, 2, 0, 0, 0, 6],\n",
        "    [0, 6, 0, 0, 0, 0, 2, 8, 0],\n",
        "    [0, 0, 0, 4, 1, 9, 0, 0, 5],\n",
        "    [0, 0, 0, 0, 8, 0, 0, 7, 9]\n",
        "]\n",
        "\n",
        "sudoku_csp = SudokuCSP(puzzle)\n",
        "if sudoku_csp.solve():\n",
        "    print(\"Sudoku solved:\")\n",
        "    sudoku_csp.display()\n",
        "else:\n",
        "    print(\"No solution exists.\")"
      ]
    }
  ]
}